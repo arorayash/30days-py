{
 "cells": [
  {
   "cell_type": "code",
   "execution_count": 6,
   "metadata": {},
   "outputs": [
    {
     "name": "stdout",
     "output_type": "stream",
     "text": [
      "Num_list :  [12, 44, 78.3, 2]\n",
      "Str_list :  ['heck', 'smoothie']\n"
     ]
    }
   ],
   "source": [
    "#Functions\n",
    "\n",
    "listA = [12, \"heck\", 44, \"smoothie\", 78.3, 2]\n",
    "\n",
    "def split_list(data_list):\n",
    "    num_list = []\n",
    "    str_list = []\n",
    "    for item in data_list:\n",
    "        if(isinstance(item, str)):\n",
    "            str_list.append(item)\n",
    "        elif(isinstance(item, int) or isinstance(item, float)):\n",
    "            num_list.append(item)\n",
    "        else:\n",
    "            pass\n",
    "    return num_list, str_list\n",
    "\n",
    "    \n",
    "num_list, str_list = split_list(listA)\n",
    "\n",
    "print(\"Num_list : \", num_list)\n",
    "print(\"Str_list : \", str_list)"
   ]
  }
 ],
 "metadata": {
  "kernelspec": {
   "display_name": "Python 3",
   "language": "python",
   "name": "python3"
  },
  "language_info": {
   "codemirror_mode": {
    "name": "ipython",
    "version": 3
   },
   "file_extension": ".py",
   "mimetype": "text/x-python",
   "name": "python",
   "nbconvert_exporter": "python",
   "pygments_lexer": "ipython3",
   "version": "3.6.1"
  }
 },
 "nbformat": 4,
 "nbformat_minor": 2
}
