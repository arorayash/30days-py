{
 "cells": [
  {
   "cell_type": "code",
   "execution_count": 6,
   "metadata": {},
   "outputs": [
    {
     "name": "stdout",
     "output_type": "stream",
     "text": [
      "Num_list :  [12, 44, 78.3, 2]\n",
      "Str_list :  ['heck', 'smoothie']\n"
     ]
    }
   ],
   "source": [
    "#Functions\n",
    "\n",
    "listA = [12, \"heck\", 44, \"smoothie\", 78.3, 2]\n",
    "\n",
    "def split_list(data_list):\n",
    "    num_list = []\n",
    "    str_list = []\n",
    "    for item in data_list:\n",
    "        if(isinstance(item, str)):\n",
    "            str_list.append(item)\n",
    "        elif(isinstance(item, int) or isinstance(item, float)):\n",
    "            num_list.append(item)\n",
    "        else:\n",
    "            pass\n",
    "    return num_list, str_list\n",
    "\n",
    "    \n",
    "num_list, str_list = split_list(listA)\n",
    "\n",
    "print(\"Num_list : \", num_list)\n",
    "print(\"Str_list : \", str_list)"
   ]
  },
  {
   "cell_type": "code",
   "execution_count": 13,
   "metadata": {},
   "outputs": [
    {
     "name": "stdout",
     "output_type": "stream",
     "text": [
      "Hello, my name is Makku. I'm from Rajasthan.\n",
      "Hello, my name is Makku. I'm from Rajasthan.\n",
      "This is replacement formatted string\n"
     ]
    }
   ],
   "source": [
    "#String substitution\n",
    "\n",
    "my_str0 = \"Hello, my name is {fname}. I'm from {place}.\".format(fname=\"Makku\", place=\"Rajasthan\")\n",
    "print(my_str0)\n",
    "\n",
    "\n",
    "##format with args\n",
    "my_str1 = \"Hello, my name is {0}. I'm from {1}.\".format(\"Makku\", \"Rajasthan\")\n",
    "print(my_str1)\n",
    "\n",
    "my_str2 = \"This is %s formatted string\" %(\"replacement\")\n",
    "print(my_str2)"
   ]
  },
  {
   "cell_type": "code",
   "execution_count": 15,
   "metadata": {},
   "outputs": [
    {
     "name": "stdout",
     "output_type": "stream",
     "text": [
      "My number is 45433\n",
      "My number is 44545433.3\n",
      "My number is 4545433.3454299998\n"
     ]
    }
   ],
   "source": [
    "#Float formatting\n",
    "\n",
    "n = 45433.358\n",
    "\n",
    "my_num = \"Rounded off to 0 decimal places, n is %.0f\" %(n)\n",
    "print(my_num)\n",
    "\n",
    "my_num = \"Rounded off to 1 decimal places, n is %.1f\" %(n)\n",
    "print(my_num)\n",
    "\n",
    "my_num = \"My number is %.10f\" %(n)\n",
    "print(my_num)"
   ]
  },
  {
   "cell_type": "code",
   "execution_count": null,
   "metadata": {
    "collapsed": true
   },
   "outputs": [],
   "source": []
  }
 ],
 "metadata": {
  "kernelspec": {
   "display_name": "Python 3",
   "language": "python",
   "name": "python3"
  },
  "language_info": {
   "codemirror_mode": {
    "name": "ipython",
    "version": 3
   },
   "file_extension": ".py",
   "mimetype": "text/x-python",
   "name": "python",
   "nbconvert_exporter": "python",
   "pygments_lexer": "ipython3",
   "version": "3.6.1"
  }
 },
 "nbformat": 4,
 "nbformat_minor": 2
}
