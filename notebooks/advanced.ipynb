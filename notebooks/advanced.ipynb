{
 "cells": [
  {
   "cell_type": "code",
   "execution_count": 6,
   "metadata": {},
   "outputs": [
    {
     "name": "stdout",
     "output_type": "stream",
     "text": [
      "Num_list :  [12, 44, 78.3, 2]\n",
      "Str_list :  ['heck', 'smoothie']\n"
     ]
    }
   ],
   "source": [
    "#Functions\n",
    "\n",
    "listA = [12, \"heck\", 44, \"smoothie\", 78.3, 2]\n",
    "\n",
    "def split_list(data_list):\n",
    "    num_list = []\n",
    "    str_list = []\n",
    "    for item in data_list:\n",
    "        if(isinstance(item, str)):\n",
    "            str_list.append(item)\n",
    "        elif(isinstance(item, int) or isinstance(item, float)):\n",
    "            num_list.append(item)\n",
    "        else:\n",
    "            pass\n",
    "    return num_list, str_list\n",
    "\n",
    "    \n",
    "num_list, str_list = split_list(listA)\n",
    "\n",
    "print(\"Num_list : \", num_list)\n",
    "print(\"Str_list : \", str_list)"
   ]
  },
  {
   "cell_type": "code",
   "execution_count": 13,
   "metadata": {},
   "outputs": [
    {
     "name": "stdout",
     "output_type": "stream",
     "text": [
      "Hello, my name is Makku. I'm from Rajasthan.\n",
      "Hello, my name is Makku. I'm from Rajasthan.\n",
      "This is replacement formatted string\n"
     ]
    }
   ],
   "source": [
    "#String substitution\n",
    "\n",
    "my_str0 = \"Hello, my name is {fname}. I'm from {place}.\".format(fname=\"Makku\", place=\"Rajasthan\")\n",
    "print(my_str0)\n",
    "\n",
    "\n",
    "##format with args\n",
    "my_str1 = \"Hello, my name is {0}. I'm from {1}.\".format(\"Makku\", \"Rajasthan\")\n",
    "print(my_str1)\n",
    "\n",
    "my_str2 = \"This is %s formatted string\" %(\"replacement\")\n",
    "print(my_str2)"
   ]
  },
  {
   "cell_type": "code",
   "execution_count": 16,
   "metadata": {},
   "outputs": [
    {
     "name": "stdout",
     "output_type": "stream",
     "text": [
      "Rounded off to 0 decimal places, n is 45433\n",
      "Rounded off to 1 decimal places, n is 45433.4\n",
      "Rounded off to 2 decimal places, n is 45433.36\n"
     ]
    }
   ],
   "source": [
    "#Float formatting\n",
    "\n",
    "n = 45433.358\n",
    "\n",
    "my_num = \"Rounded off to 0 decimal places, n is %.0f\" %(n)\n",
    "print(my_num)\n",
    "\n",
    "my_num = \"Rounded off to 1 decimal places, n is %.1f\" %(n)\n",
    "print(my_num)\n",
    "\n",
    "my_num = \"Rounded off to 2 decimal places, n is %.2f\" %(n)\n",
    "print(my_num)"
   ]
  },
  {
   "cell_type": "code",
   "execution_count": 17,
   "metadata": {},
   "outputs": [
    {
     "name": "stdout",
     "output_type": "stream",
     "text": [
      "2017-06-06\n"
     ]
    }
   ],
   "source": [
    "#Date\n",
    "\n",
    "import datetime\n",
    "today = datetime.date.today()\n",
    "print(today)"
   ]
  },
  {
   "cell_type": "code",
   "execution_count": 28,
   "metadata": {},
   "outputs": [
    {
     "name": "stdout",
     "output_type": "stream",
     "text": [
      "Hello Ryan, \n",
      "Your item toothpaste has been shipped today, 6/6/17.\n",
      "The cost for the item is $4.00, to be availed as COD.\n",
      "Thank you.\n",
      "Hello Paul, \n",
      "Your item toothpaste has been shipped today, 6/6/17.\n",
      "The cost for the item is $4.00, to be availed as COD.\n",
      "Thank you.\n",
      "Hello Shizuka, \n",
      "Your item toothpaste has been shipped today, 6/6/17.\n",
      "The cost for the item is $4.00, to be availed as COD.\n",
      "Thank you.\n",
      "Hello Tom, \n",
      "Your item toothpaste has been shipped today, 6/6/17.\n",
      "The cost for the item is $4.00, to be availed as COD.\n",
      "Thank you.\n"
     ]
    }
   ],
   "source": [
    "#Compose message for a list of customers\n",
    "\n",
    "import datetime\n",
    "\n",
    "unformatted_msg = \"\"\"Hello {name}, \n",
    "Your item {item_name} has been shipped today, {date}.\n",
    "The cost for the item is ${price}, to be availed as COD.\n",
    "Thank you.\"\"\"\n",
    "\n",
    "dafault_names = [\"ryan\", \"Paul\", \"shizuka\", \"tom\"]\n",
    "default_items = [\"TOOTHPASTE\", \"pEn\", \"artBoard\", \"HotSauce\"]\n",
    "default_prices = [4, 10.99, 12.2, 2.5]\n",
    "\n",
    "def format_msg(msg, names, items, prices):\n",
    "    today = datetime.date.today()\n",
    "    today_formatted = text = today.strftime('%-m/%-d/%y')\n",
    "    if (len(names)==len(items) and len(names)==len(prices)):\n",
    "        for customer in names:\n",
    "            i = 0\n",
    "            formatted_msg = msg.format(\n",
    "                name=customer[0].upper()+customer[1:],\n",
    "                item_name=default_items[i].lower(),\n",
    "                date=today_formatted,\n",
    "                price=\"%0.2f\" %(default_price[i])\n",
    "            )\n",
    "            print(formatted_msg)\n",
    "            i += 1\n",
    "\n",
    "format_msg(unformatted_msg, dafault_names, default_items, default_prices)"
   ]
  },
  {
   "cell_type": "code",
   "execution_count": 32,
   "metadata": {},
   "outputs": [
    {
     "name": "stdout",
     "output_type": "stream",
     "text": [
      "<__main__.Dog object at 0x10da2cf98>\n"
     ]
    }
   ],
   "source": [
    "#Class definition\n",
    "\n",
    "class Dog:\n",
    "    name = \"Jon\"\n",
    "    color = \"brown\"\n",
    "    \n",
    "one = Dog()\n",
    "print(one)"
   ]
  },
  {
   "cell_type": "code",
   "execution_count": 37,
   "metadata": {},
   "outputs": [
    {
     "data": {
      "text/plain": [
       "'grunt'"
      ]
     },
     "execution_count": 37,
     "metadata": {},
     "output_type": "execute_result"
    }
   ],
   "source": [
    "#Inheritance\n",
    "\n",
    "class Animal():\n",
    "    sound = \"grunt\"\n",
    "    color = \"brown\"\n",
    "    size = \"huge\"\n",
    "    hair = True\n",
    "    def get_sound(self):\n",
    "        return self.sound\n",
    "    def get_color(self):\n",
    "        return self.color\n",
    "    def get_size(self):\n",
    "        return self.size\n",
    "    def get_hair(self):\n",
    "        return self.hair\n",
    "\n",
    "class Dog0():\n",
    "    name = \"Ken\"\n",
    "\n",
    "class Dog1(Animal):\n",
    "    name = \"Jon\"\n",
    "    \n",
    "ken = Dog1()\n",
    "ken.get_sound()"
   ]
  },
  {
   "cell_type": "code",
   "execution_count": 40,
   "metadata": {},
   "outputs": [
    {
     "ename": "TypeError",
     "evalue": "get_sound() missing 1 required positional argument: 'new_sound'",
     "output_type": "error",
     "traceback": [
      "\u001b[0;31m---------------------------------------------------------------------------\u001b[0m",
      "\u001b[0;31mTypeError\u001b[0m                                 Traceback (most recent call last)",
      "\u001b[0;32m<ipython-input-40-63ae8df687a6>\u001b[0m in \u001b[0;36m<module>\u001b[0;34m()\u001b[0m\n\u001b[1;32m     23\u001b[0m \u001b[0mken\u001b[0m \u001b[0;34m=\u001b[0m \u001b[0mDog1\u001b[0m\u001b[0;34m(\u001b[0m\u001b[0;34m)\u001b[0m\u001b[0;34m\u001b[0m\u001b[0m\n\u001b[1;32m     24\u001b[0m \u001b[0mken\u001b[0m\u001b[0;34m.\u001b[0m\u001b[0mset_sound\u001b[0m\u001b[0;34m(\u001b[0m\u001b[0;34m\"bark!\"\u001b[0m\u001b[0;34m)\u001b[0m\u001b[0;34m\u001b[0m\u001b[0m\n\u001b[0;32m---> 25\u001b[0;31m \u001b[0mprint\u001b[0m\u001b[0;34m(\u001b[0m\u001b[0mken\u001b[0m\u001b[0;34m.\u001b[0m\u001b[0mget_sound\u001b[0m\u001b[0;34m(\u001b[0m\u001b[0;34m)\u001b[0m\u001b[0;34m)\u001b[0m\u001b[0;34m\u001b[0m\u001b[0m\n\u001b[0m\u001b[1;32m     26\u001b[0m \u001b[0;34m\u001b[0m\u001b[0m\n\u001b[1;32m     27\u001b[0m \u001b[0mprint\u001b[0m\u001b[0;34m(\u001b[0m\u001b[0mtype\u001b[0m\u001b[0;34m(\u001b[0m\u001b[0mken\u001b[0m\u001b[0;34m)\u001b[0m\u001b[0;34m)\u001b[0m\u001b[0;34m\u001b[0m\u001b[0m\n",
      "\u001b[0;31mTypeError\u001b[0m: get_sound() missing 1 required positional argument: 'new_sound'"
     ]
    }
   ],
   "source": [
    "class Animal():\n",
    "    sound = \"grunt\"\n",
    "    color = \"brown\"\n",
    "    size = \"huge\"\n",
    "    hair = True\n",
    "    def set_sound(self, new_sound):\n",
    "        self.sound = new_sound\n",
    "    def get_sound(self, new_sound):\n",
    "        return self.sound\n",
    "    def get_color(self):\n",
    "        return self.color\n",
    "    def get_size(self):\n",
    "        return self.size\n",
    "    def get_hair(self):\n",
    "        return self.hair\n",
    "\n",
    "class Dog0():\n",
    "    name = \"Ken\"\n",
    "\n",
    "class Dog1(Animal):\n",
    "    name = \"Jon\"\n",
    "    \n",
    "ken = Dog1()\n",
    "ken.set_sound(\"bark!\")\n",
    "print(ken.get_sound())\n",
    "\n",
    "print(type(ken))\n",
    "print(id(ken))"
   ]
  },
  {
   "cell_type": "code",
   "execution_count": null,
   "metadata": {
    "collapsed": true
   },
   "outputs": [],
   "source": []
  }
 ],
 "metadata": {
  "kernelspec": {
   "display_name": "Python 3",
   "language": "python",
   "name": "python3"
  },
  "language_info": {
   "codemirror_mode": {
    "name": "ipython",
    "version": 3
   },
   "file_extension": ".py",
   "mimetype": "text/x-python",
   "name": "python",
   "nbconvert_exporter": "python",
   "pygments_lexer": "ipython3",
   "version": "3.6.1"
  }
 },
 "nbformat": 4,
 "nbformat_minor": 2
}
