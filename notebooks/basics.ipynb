{
 "cells": [
  {
   "cell_type": "code",
   "execution_count": 10,
   "metadata": {
    "collapsed": true
   },
   "outputs": [],
   "source": [
    "#Lists\n",
    "\n",
    "a = [234, \"Hello\", 34.22, 22, \"World\"]"
   ]
  },
  {
   "cell_type": "code",
   "execution_count": 11,
   "metadata": {},
   "outputs": [
    {
     "name": "stdout",
     "output_type": "stream",
     "text": [
      "[234, 'Hello', 34.22, 22, 'World']\n"
     ]
    }
   ],
   "source": [
    "print(a)"
   ]
  },
  {
   "cell_type": "code",
   "execution_count": 12,
   "metadata": {},
   "outputs": [
    {
     "name": "stdout",
     "output_type": "stream",
     "text": [
      "[234, 'Hello', 34.22, 22, 'World', 'New_Item']\n",
      "[234, 'Hello', 34.22, 22, 'World']\n",
      "[234, 34.22, 22, 'World']\n"
     ]
    }
   ],
   "source": [
    "a.append(\"New_Item\")\n",
    "print(a)\n",
    "a.pop()\n",
    "print(a)\n",
    "a.pop(1)\n",
    "print(a)"
   ]
  },
  {
   "cell_type": "code",
   "execution_count": 13,
   "metadata": {},
   "outputs": [
    {
     "name": "stdout",
     "output_type": "stream",
     "text": [
      "4\n"
     ]
    }
   ],
   "source": [
    "print(len(a))"
   ]
  },
  {
   "cell_type": "code",
   "execution_count": 14,
   "metadata": {},
   "outputs": [
    {
     "name": "stdout",
     "output_type": "stream",
     "text": [
      "Tomatoes\n"
     ]
    }
   ],
   "source": [
    "#Dictionary\n",
    "\n",
    "b = {\"first\": \"Tomatoes\", \"second\": \"cheese\"}\n",
    "print(b[\"first\"])"
   ]
  },
  {
   "cell_type": "code",
   "execution_count": 18,
   "metadata": {},
   "outputs": [
    {
     "name": "stdout",
     "output_type": "stream",
     "text": [
      "Tomatoes\n",
      "cheese\n"
     ]
    }
   ],
   "source": [
    "for item in b:\n",
    "    print(b[item])"
   ]
  },
  {
   "cell_type": "code",
   "execution_count": 31,
   "metadata": {},
   "outputs": [
    {
     "name": "stdout",
     "output_type": "stream",
     "text": [
      "Not found. Here is the imposition - \n",
      "0\n",
      "1\n",
      "2\n",
      "3\n",
      "4\n",
      "5\n",
      "6\n",
      "7\n",
      "8\n",
      "9\n"
     ]
    }
   ],
   "source": [
    "i = 0;\n",
    "if b[\"first\"] == \"Potatoes\":\n",
    "    print(\"Found\")\n",
    "else:\n",
    "    print(\"Not found. Here is the imposition - \")\n",
    "    for i in range(0,10):\n",
    "        print(i)\n",
    "        i+=1"
   ]
  },
  {
   "cell_type": "code",
   "execution_count": 34,
   "metadata": {},
   "outputs": [
    {
     "name": "stdout",
     "output_type": "stream",
     "text": [
      "bar\n"
     ]
    }
   ],
   "source": [
    "#Tuple\n",
    "\n",
    "tup = (\"foo\", \"bar\", (\"foo-minor\", \"bar-minor\"))\n",
    "\n",
    "print(tup[1])"
   ]
  },
  {
   "cell_type": "code",
   "execution_count": 37,
   "metadata": {},
   "outputs": [
    {
     "data": {
      "text/plain": [
       "False"
      ]
     },
     "execution_count": 37,
     "metadata": {},
     "output_type": "execute_result"
    }
   ],
   "source": [
    "listA = [1,2,3]\n",
    "listB = [\"1\", \"2\", 3]\n",
    "listA == listB"
   ]
  },
  {
   "cell_type": "code",
   "execution_count": 45,
   "metadata": {},
   "outputs": [
    {
     "name": "stdout",
     "output_type": "stream",
     "text": [
      "True\n",
      "False\n"
     ]
    }
   ],
   "source": [
    "objA = 0\n",
    "objB = 34\n",
    "print(not objA)\n",
    "print(not objB)"
   ]
  },
  {
   "cell_type": "code",
   "execution_count": 47,
   "metadata": {},
   "outputs": [
    {
     "data": {
      "text/plain": [
       "True"
      ]
     },
     "execution_count": 47,
     "metadata": {},
     "output_type": "execute_result"
    }
   ],
   "source": [
    "isinstance(\"main\", str)"
   ]
  },
  {
   "cell_type": "code",
   "execution_count": 50,
   "metadata": {},
   "outputs": [
    {
     "name": "stdout",
     "output_type": "stream",
     "text": [
      "12\n",
      "44\n",
      "2\n"
     ]
    }
   ],
   "source": [
    "#Print all the integrers in the list\n",
    "\n",
    "listC = [12, \"heck\", 44, \"smoothie\", 78.3, 2]\n",
    "for i in listC:\n",
    "    if(isinstance(i, int)):\n",
    "        print(i)"
   ]
  },
  {
   "cell_type": "code",
   "execution_count": 65,
   "metadata": {},
   "outputs": [
    {
     "name": "stdout",
     "output_type": "stream",
     "text": [
      "['AA', 'aAg', 'aaa', 'adhd', 'dax', 'thru']\n",
      "['AA', 'aaa', 'aAg', 'adhd', 'dax', 'thru']\n",
      "['thru', 'dax', 'adhd', 'aaa', 'aAg', 'AA']\n",
      "['AA', 'aAg', 'aaa', 'adhd', 'dax', 'thru']\n",
      "[12.4, 23, 57, 87, 232.2, 4545, 45452.3]\n",
      "[45452.3, 4545, 232.2, 87, 57, 23, 12.4]\n",
      "[12.4, 23, 57, 87, 232.2, 4545, 45452.3]\n"
     ]
    }
   ],
   "source": [
    "#sorting\n",
    "\n",
    "listD = [\"adhd\", \"dax\", \"thru\", \"AA\", \"aAg\", \"aaa\"]\n",
    "listD.sort()\n",
    "print(listD)\n",
    "listD.sort(key=str.lower)\n",
    "print(listD)\n",
    "listD.sort(reverse=True)\n",
    "print(listD)\n",
    "\n",
    "##Storing sorted list into a new list\n",
    "listD_sorted = sorted(listD)\n",
    "print(listD_sorted)\n",
    "\n",
    "listE = [23, 4545, 12.4, 45452.3, 232.2, 57, 87]\n",
    "listE.sort()\n",
    "print(listE)\n",
    "listE.sort(reverse = True)\n",
    "print(listE)\n",
    "\n",
    "##Storing sorted list into a new list\n",
    "listE_sorted = sorted(listE)\n",
    "print(listE_sorted)"
   ]
  }
 ],
 "metadata": {
  "anaconda-cloud": {},
  "kernelspec": {
   "display_name": "Python 3",
   "language": "python",
   "name": "python3"
  },
  "language_info": {
   "codemirror_mode": {
    "name": "ipython",
    "version": 3
   },
   "file_extension": ".py",
   "mimetype": "text/x-python",
   "name": "python",
   "nbconvert_exporter": "python",
   "pygments_lexer": "ipython3",
   "version": "3.6.1"
  }
 },
 "nbformat": 4,
 "nbformat_minor": 1
}
